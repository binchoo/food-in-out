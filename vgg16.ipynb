{
 "cells": [
  {
   "cell_type": "code",
   "execution_count": 1,
   "metadata": {},
   "outputs": [],
   "source": [
    "import os, random\n",
    "import tensorflow as tf\n",
    "import tensorflow.keras as ks\n",
    "import numpy as np\n",
    "from tensorflow.keras.applications import VGG16\n",
    "from tensorflow.keras.preprocessing import image_dataset_from_directory\n",
    "from tensorflow.keras import layers"
   ]
  },
  {
   "cell_type": "code",
   "execution_count": 2,
   "metadata": {},
   "outputs": [],
   "source": [
    "config = {\n",
    "    \"dataset_path\": \"images/\",\n",
    "    \"validation_ratio\": 0.2,\n",
    "    \"image_size\": (300, 300),\n",
    "    \"input_shape\": (300, 300, 3),\n",
    "    \"batch_size\": 32,\n",
    "    \"mode\": \"train\",\n",
    "    \"loss_function\": \"categorical_crossentropy\",\n",
    "    \"optimizer\": \"adam\",\n",
    "    \"epochs\": 8,\n",
    "    \"dropout\": 0.0,\n",
    "    \"backbone_train\": False,\n",
    "    \"checkpoint_pattern\": \"checkpoint/vgg16/cp-{epoch:03d}.ckpt\",\n",
    "}"
   ]
  },
  {
   "cell_type": "markdown",
   "metadata": {},
   "source": [
    "# train/test 데이터셋 나누기"
   ]
  },
  {
   "cell_type": "code",
   "execution_count": 3,
   "metadata": {},
   "outputs": [],
   "source": [
    "from prep_image.loader import image_loader"
   ]
  },
  {
   "cell_type": "markdown",
   "metadata": {},
   "source": [
    "# 전처리 과정 정의"
   ]
  },
  {
   "cell_type": "code",
   "execution_count": 4,
   "metadata": {},
   "outputs": [],
   "source": [
    "from prep_image.preprocess import preprocess\n",
    "from prep_image.preprocess import normalizer"
   ]
  },
  {
   "cell_type": "markdown",
   "metadata": {},
   "source": [
    "# 모델 정의하기"
   ]
  },
  {
   "cell_type": "code",
   "execution_count": 5,
   "metadata": {},
   "outputs": [],
   "source": [
    "def create_model(config):\n",
    "    print('system >> creating a model...')\n",
    "    model = define_model(config)\n",
    "    mode = config['mode']\n",
    "\n",
    "    if mode in [\"retrain\", \"test\"]:\n",
    "        print('system >> loading pretrained model...', config['saved_model'])\n",
    "        model.load_weights(config['saved_model'])\n",
    "        \n",
    "    model.compile(loss=config['loss_function'], optimizer=config['optimizer'], metrics=['accuracy'])\n",
    "    return model\n",
    "\n",
    "def define_model(config):\n",
    "    vgg16 = VGG16(weights='imagenet', include_top=False)\n",
    "    vgg16.trainable = config[\"backbone_train\"]\n",
    "    \n",
    "    classifier = ks.models.Sequential([\n",
    "        layers.Flatten(),\n",
    "        layers.Dropout(config['dropout']),\n",
    "        layers.Dense(200, activation='relu'),\n",
    "        layers.Dense(3, activation='softmax')\n",
    "    ])\n",
    "    \n",
    "    model = ks.models.Sequential([\n",
    "        normalizer(config['input_shape']),\n",
    "        vgg16,\n",
    "        classifier\n",
    "    ])\n",
    "    return model"
   ]
  },
  {
   "cell_type": "markdown",
   "metadata": {},
   "source": [
    "# 콜백 작성하기"
   ]
  },
  {
   "cell_type": "code",
   "execution_count": 6,
   "metadata": {},
   "outputs": [],
   "source": [
    "class CustomCallback(ks.callbacks.Callback):\n",
    "\n",
    "    def __init__(self):\n",
    "        self.t_loss = {}\n",
    "        self.t_acc = {}\n",
    "        self.v_loss = {}\n",
    "        self.v_acc = {}\n",
    "        self.step = 0\n",
    "\n",
    "    def on_epoch_end(self, epoch, logs):\n",
    "        self.v_loss[self.step] = logs['val_loss']\n",
    "        self.v_acc[self.step] = logs['val_accuracy']\n",
    "        \n",
    "    def on_train_batch_end(self, batch, logs=None):\n",
    "        self.t_acc[self.step] = logs['accuracy']\n",
    "        self.t_loss[self.step] = logs['loss']\n",
    "        self.step += 1\n",
    "\n",
    "    def on_train_end(self, logs):\n",
    "        import matplotlib.pyplot as plt\n",
    "        fig, (loss_ax, acc_ax) = plt.subplots(2, 1)\n",
    "        \n",
    "        loss_ax.plot(self.t_loss.keys(), self.t_loss.values(), label='training loss')\n",
    "        loss_ax.plot(self.v_loss.keys(), self.v_loss.values(), label='validation loss')\n",
    "        loss_ax.set_xlabel('Steps')\n",
    "        loss_ax.set_ylabel('Loss')\n",
    "        \n",
    "        acc_ax.plot(self.t_acc.keys(), self.t_acc.values(), label='training acc')\n",
    "        acc_ax.plot(self.v_acc.keys(), self.v_acc.values(), label='validation acc')\n",
    "        acc_ax.set_xlabel('Steps')\n",
    "        acc_ax.set_ylabel('Accuracy')\n",
    "        \n",
    "        plt.show()\n",
    "        \n",
    "recorder = CustomCallback()\n",
    "checkpoint_callback = ks.callbacks.ModelCheckpoint(\n",
    "    filepath=config[\"checkpoint_pattern\"], \n",
    "    verbose=1,\n",
    "    monitor='val_accuracy',\n",
    "    save_weights_only=True,\n",
    "    save_best_only=True,\n",
    "    save_freq='epoch'\n",
    ")"
   ]
  },
  {
   "cell_type": "markdown",
   "metadata": {},
   "source": [
    "# 학습과 테스트 정의하기"
   ]
  },
  {
   "cell_type": "code",
   "execution_count": 7,
   "metadata": {},
   "outputs": [],
   "source": [
    "def main(config):\n",
    "    model = create_model(config)\n",
    "    print('system >> model summary')\n",
    "    model.summary()\n",
    "    \n",
    "    if config['mode'] in ['train', 'retrain']:\n",
    "        hist = do_train(model, config)\n",
    "        do_eval(model, config)\n",
    "    else:\n",
    "        do_eval(model, config)\n",
    "        \n",
    "    return hist\n",
    "\n",
    "def do_train(model, config):\n",
    "    shape = (config['batch_size'], *config['input_shape'])\n",
    "    train_ds, valid_ds = image_loader(config['dataset_path'], config['validation_ratio'], \n",
    "                                  config['image_size'], config['batch_size'])\n",
    "    print('system >> identified classes:', *train_ds.class_names)\n",
    "    \n",
    "    train_ds = preprocess(train_ds, shape=shape, shuffle=True, augment=True)\n",
    "    valid_ds = preprocess(valid_ds, shape=shape)\n",
    "    print('system >> training begins...')\n",
    "    return model.fit(train_ds, \n",
    "          validation_data=valid_ds, \n",
    "          epochs=config['epochs'],\n",
    "          callbacks=[recorder, checkpoint_callback])\n",
    "\n",
    "def do_eval(model, config):\n",
    "    shape = (config['batch_size'], *config['image_size'])\n",
    "    valid_ds = image_loader(config['dataset_path'], config['validation_ratio'], \n",
    "                                  config['image_size'], config['batch_size'], subset='valid')\n",
    "    print('system >> identified classes:', *valid_ds.class_names)\n",
    "    \n",
    "    valid_ds = preprocess(valid_ds, shape=shape)\n",
    "    print('system >> evaluation begins...')\n",
    "    model.evaluate(valid_ds)\n",
    "\n",
    "def do_test(model, config):\n",
    "    print('system >> test begins...')"
   ]
  },
  {
   "cell_type": "code",
   "execution_count": 8,
   "metadata": {},
   "outputs": [
    {
     "name": "stdout",
     "output_type": "stream",
     "text": [
      "system >> creating a model...\n",
      "system >> model summary\n",
      "Model: \"sequential_2\"\n",
      "_________________________________________________________________\n",
      "Layer (type)                 Output Shape              Param #   \n",
      "=================================================================\n",
      "rescaling (Rescaling)        (None, 300, 300, 3)       0         \n",
      "_________________________________________________________________\n",
      "vgg16 (Functional)           (None, None, None, 512)   14714688  \n",
      "_________________________________________________________________\n",
      "sequential_1 (Sequential)    (None, 3)                 8295203   \n",
      "=================================================================\n",
      "Total params: 23,009,891\n",
      "Trainable params: 8,295,203\n",
      "Non-trainable params: 14,714,688\n",
      "_________________________________________________________________\n",
      "Found 45000 files belonging to 3 classes.\n",
      "Using 36000 files for training.\n",
      "Found 45000 files belonging to 3 classes.\n",
      "Using 9000 files for validation.\n",
      "system >> identified classes: 0food 1interior 2exterior\n",
      "system >> training begins...\n",
      "Epoch 1/8\n",
      "   6/1125 [..............................] - ETA: 2:19 - loss: 4.8604 - accuracy: 0.4256WARNING:tensorflow:Callback method `on_train_batch_end` is slow compared to the batch time (batch time: 0.0154s vs `on_train_batch_end` time: 0.0912s). Check your callbacks.\n",
      "1125/1125 [==============================] - 284s 172ms/step - loss: 0.7600 - accuracy: 0.7867 - val_loss: 0.3297 - val_accuracy: 0.8673\n",
      "\n",
      "Epoch 00001: val_accuracy improved from -inf to 0.86733, saving model to checkpoint/vgg16/cp-001.ckpt\n",
      "Epoch 2/8\n",
      "1125/1125 [==============================] - 279s 170ms/step - loss: 0.3550 - accuracy: 0.8582 - val_loss: 0.3091 - val_accuracy: 0.8813\n",
      "\n",
      "Epoch 00002: val_accuracy improved from 0.86733 to 0.88133, saving model to checkpoint/vgg16/cp-002.ckpt\n",
      "Epoch 3/8\n",
      "1125/1125 [==============================] - 275s 170ms/step - loss: 0.3323 - accuracy: 0.8674 - val_loss: 0.3053 - val_accuracy: 0.8863\n",
      "\n",
      "Epoch 00003: val_accuracy improved from 0.88133 to 0.88633, saving model to checkpoint/vgg16/cp-003.ckpt\n",
      "Epoch 4/8\n",
      "1125/1125 [==============================] - 277s 170ms/step - loss: 0.3305 - accuracy: 0.8703 - val_loss: 0.3593 - val_accuracy: 0.8564\n",
      "\n",
      "Epoch 00004: val_accuracy did not improve from 0.88633\n",
      "Epoch 5/8\n",
      "1125/1125 [==============================] - 273s 171ms/step - loss: 0.3184 - accuracy: 0.8764 - val_loss: 0.3619 - val_accuracy: 0.8561\n",
      "\n",
      "Epoch 00005: val_accuracy did not improve from 0.88633\n",
      "Epoch 6/8\n",
      "1125/1125 [==============================] - 273s 171ms/step - loss: 0.3097 - accuracy: 0.8791 - val_loss: 0.2941 - val_accuracy: 0.8884\n",
      "\n",
      "Epoch 00006: val_accuracy improved from 0.88633 to 0.88844, saving model to checkpoint/vgg16/cp-006.ckpt\n",
      "Epoch 7/8\n",
      "1125/1125 [==============================] - 273s 170ms/step - loss: 0.2990 - accuracy: 0.8813 - val_loss: 0.2940 - val_accuracy: 0.8871\n",
      "\n",
      "Epoch 00007: val_accuracy did not improve from 0.88844\n",
      "Epoch 8/8\n",
      "1125/1125 [==============================] - 279s 171ms/step - loss: 0.2964 - accuracy: 0.8832 - val_loss: 0.2852 - val_accuracy: 0.8902\n",
      "\n",
      "Epoch 00008: val_accuracy improved from 0.88844 to 0.89022, saving model to checkpoint/vgg16/cp-008.ckpt\n"
     ]
    },
    {
     "data": {
      "image/png": "[encoded data removed]",
      "text/plain": [
       "<Figure size 432x288 with 2 Axes>"
      ]
     },
     "metadata": {
      "needs_background": "light"
     },
     "output_type": "display_data"
    },
    {
     "name": "stdout",
     "output_type": "stream",
     "text": [
      "Found 45000 files belonging to 3 classes.\n",
      "Using 9000 files for validation.\n",
      "system >> identified classes: 0food 1interior 2exterior\n",
      "system >> evaluation begins...\n",
      "282/282 [==============================] - 52s 184ms/step - loss: 0.2482 - accuracy: 0.9010\n"
     ]
    },
    {
     "data": {
      "text/plain": [
       "<tensorflow.python.keras.callbacks.History at 0x7fe8d029f828>"
      ]
     },
     "execution_count": 8,
     "metadata": {},
     "output_type": "execute_result"
    }
   ],
   "source": [
    "main(config)"
   ]
  },
  {
   "cell_type": "code",
   "execution_count": 9,
   "metadata": {},
   "outputs": [],
   "source": [
    "def on_train_end(self, cb):\n",
    "        import matplotlib.pyplot as plt\n",
    "        plt.plot(self.t_loss.keys(), self.t_loss.values())\n",
    "        plt.xlabel('Training Steps')\n",
    "        plt.ylabel('Training Loss')\n",
    "        plt.show()\n",
    "\n",
    "        self.t_loss = {}\n",
    "        self.t_acc = {}"
   ]
  }
 ],
 "metadata": {
  "kernelspec": {
   "display_name": "Python 3",
   "language": "python",
   "name": "python3"
  },
  "language_info": {
   "codemirror_mode": {
    "name": "ipython",
    "version": 3
   },
   "file_extension": ".py",
   "mimetype": "text/x-python",
   "name": "python",
   "nbconvert_exporter": "python",
   "pygments_lexer": "ipython3",
   "version": "3.6.9"
  }
 },
 "nbformat": 4,
 "nbformat_minor": 4
}
