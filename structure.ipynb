{
 "cells": [
  {
   "cell_type": "code",
   "execution_count": 2,
   "metadata": {},
   "outputs": [],
   "source": [
    "import os\n",
    "import tensorflow as tf\n",
    "import tensorflow.keras as ks\n",
    "import numpy as np\n",
    "from tensorflow.keras.preprocessing import image_dataset_from_directory\n",
    "from tensorflow.keras import layers"
   ]
  },
  {
   "cell_type": "code",
   "execution_count": 3,
   "metadata": {},
   "outputs": [],
   "source": [
    "config = {\n",
    "    \"dataset_path\": \"images/\",\n",
    "    \"validation_ratio\": 0.2,\n",
    "    \"image_size\": (300, 300),\n",
    "    \"batch_size\": 32,\n",
    "    \"mode\": \"all\",\n",
    "    \"loss_function\": \"categorical_crossentropy\",\n",
    "    \"optimizer\": \"adam\",\n",
    "    \"epochs\": 3,\n",
    "    \"checkpoint_pattern\": \"checkpoint/cp-{epoch:03d}.ckpt\",\n",
    "    \"checkpoint_dir\": \"checkpoint/\"\n",
    "}"
   ]
  },
  {
   "cell_type": "markdown",
   "metadata": {},
   "source": [
    "# train/test 데이터셋 나누기"
   ]
  },
  {
   "cell_type": "code",
   "execution_count": 4,
   "metadata": {},
   "outputs": [],
   "source": [
    "def image_loader(directory,\n",
    "                 validation_split, \n",
    "                 image_size, \n",
    "                 batch_size,\n",
    "                 subset=\"all\"):\n",
    "    \n",
    "    train_ds, valid_ds = None, None\n",
    "    if \"all\" == subset:\n",
    "        subset = \"train/valid\"\n",
    "    \n",
    "    if \"train\" in subset:\n",
    "        train_ds = image_dataset_from_directory(\n",
    "            directory,\n",
    "            labels='inferred',\n",
    "            label_mode='categorical',\n",
    "            validation_split=validation_split,\n",
    "            subset=\"training\",\n",
    "            seed=123,\n",
    "            image_size=image_size,\n",
    "            batch_size=batch_size)\n",
    "        \n",
    "    if \"valid\" in subset:\n",
    "        valid_ds = image_dataset_from_directory(\n",
    "            directory,\n",
    "            labels='inferred',\n",
    "            label_mode='categorical',\n",
    "            validation_split=validation_split,\n",
    "            subset=\"validation\",\n",
    "            seed=123,\n",
    "            image_size=image_size,\n",
    "            batch_size=batch_size)\n",
    "    \n",
    "    return train_ds, valid_ds\n",
    "\n",
    "def normalize(ds):\n",
    "    normalizer = layers.experimental.preprocessing.Rescaling(1./255)\n",
    "    normlized_ds = ds.map(lambda x, y: (normalizer(x), y))\n",
    "    return normlized_ds"
   ]
  },
  {
   "cell_type": "code",
   "execution_count": 5,
   "metadata": {},
   "outputs": [
    {
     "name": "stdout",
     "output_type": "stream",
     "text": [
      "Found 45000 files belonging to 3 classes.\n",
      "Using 36000 files for training.\n",
      "Found 45000 files belonging to 3 classes.\n",
      "Using 9000 files for validation.\n"
     ]
    }
   ],
   "source": [
    "train_ds, valid_ds = image_loader('images/', 0.2, (300, 300), 32)"
   ]
  },
  {
   "cell_type": "code",
   "execution_count": 6,
   "metadata": {},
   "outputs": [
    {
     "data": {
      "text/plain": [
       "['exterior', 'food', 'interior']"
      ]
     },
     "execution_count": 6,
     "metadata": {},
     "output_type": "execute_result"
    }
   ],
   "source": [
    "train_ds.class_names"
   ]
  },
  {
   "cell_type": "code",
   "execution_count": 7,
   "metadata": {},
   "outputs": [
    {
     "name": "stdout",
     "output_type": "stream",
     "text": [
      "(32, 300, 300, 3)\n",
      "(32, 3)\n"
     ]
    }
   ],
   "source": [
    "for image_batch, labels_batch in train_ds:\n",
    "    print(image_batch.shape)\n",
    "    print(labels_batch.shape)\n",
    "    break"
   ]
  },
  {
   "cell_type": "code",
   "execution_count": 8,
   "metadata": {},
   "outputs": [
    {
     "name": "stdout",
     "output_type": "stream",
     "text": [
      "(32, 300, 300, 3)\n",
      "(32, 3)\n",
      "tf.Tensor([0. 0. 1.], shape=(3,), dtype=float32)\n",
      "0.0 1.0\n"
     ]
    }
   ],
   "source": [
    "normalized_ds = normalize(train_ds)\n",
    "\n",
    "for image_batch, labels_batch in normalized_ds:\n",
    "    print(image_batch.shape)\n",
    "    print(labels_batch.shape)\n",
    "    sample_label = labels_batch[31]\n",
    "    sample_image = image_batch[31]\n",
    "    print(sample_label)\n",
    "    print(np.min(sample_image), np.max(sample_label))\n",
    "    break"
   ]
  },
  {
   "cell_type": "markdown",
   "metadata": {},
   "source": [
    "# 콜백 작성하기"
   ]
  },
  {
   "cell_type": "code",
   "execution_count": 10,
   "metadata": {},
   "outputs": [],
   "source": [
    "class CustomCallback(ks.callbacks.Callback):\n",
    "\n",
    "    def __init__(self):\n",
    "        self.accs = {}\n",
    "        self.losses = {}\n",
    "\n",
    "    def on_epoch_end(self, epoch, logs):\n",
    "        self.losses[epoch] = logs['loss']\n",
    "        print('\\n==========\\n')\n",
    "        print('Epoch:', epoch)\n",
    "        print('Training Loss:', logs['loss'])\n",
    "        print('Validation Loss:', logs['val_loss'])\n",
    "        print('Accuracy:', logs['acc'])\n",
    "\n",
    "    def on_train_end(self, logs):\n",
    "        import matplotlib.pyplot as plt\n",
    "        plt.plot(self.losses.keys(), self.losses.values())\n",
    "        plt.xlabel('Training Epochs')\n",
    "        plt.ylabel('Training Loss')\n",
    "        plt.ylim([0, 2]) #수렴 여부를 관찰하기 위해 좁은 뷰 설정\n",
    "        plt.show()\n",
    "\n",
    "        self.losses = {}\n",
    "\n",
    "recorder = CustomCallback()\n",
    "checkpoint_callback = ks.callbacks.ModelCheckpoint(\n",
    "    config[\"checkpoint_pattern\"], \n",
    "    monitor='val_acc', verbose=1, \n",
    "    save_best_only=True,\n",
    "    save_weights_only=True,\n",
    "    save_freq='epoch'\n",
    ")"
   ]
  },
  {
   "cell_type": "code",
   "execution_count": 11,
   "metadata": {},
   "outputs": [
    {
     "name": "stdout",
     "output_type": "stream",
     "text": [
      "Model: \"sequential\"\n",
      "_________________________________________________________________\n",
      "Layer (type)                 Output Shape              Param #   \n",
      "=================================================================\n",
      "Conv2D_layer1 (Conv2D)       (None, 269, 269, 12)      36876     \n",
      "_________________________________________________________________\n",
      "MaxPooling2D_layer1 (MaxPool (None, 134, 134, 12)      0         \n",
      "_________________________________________________________________\n",
      "Conv2D_layer2 (Conv2D)       (None, 119, 119, 36)      110628    \n",
      "_________________________________________________________________\n",
      "MaxPooling2D_layer2 (MaxPool (None, 29, 29, 36)        0         \n",
      "_________________________________________________________________\n",
      "Flatten (Flatten)            (None, 30276)             0         \n",
      "_________________________________________________________________\n",
      "dropout (Dropout)            (None, 30276)             0         \n",
      "_________________________________________________________________\n",
      "Dense_layer1 (Dense)         (None, 1000)              30277000  \n",
      "_________________________________________________________________\n",
      "dropout_1 (Dropout)          (None, 1000)              0         \n",
      "_________________________________________________________________\n",
      "Dense_layer2 (Dense)         (None, 100)               100100    \n",
      "_________________________________________________________________\n",
      "dropout_2 (Dropout)          (None, 100)               0         \n",
      "_________________________________________________________________\n",
      "Output_layer (Dense)         (None, 3)                 303       \n",
      "=================================================================\n",
      "Total params: 30,524,907\n",
      "Trainable params: 30,524,907\n",
      "Non-trainable params: 0\n",
      "_________________________________________________________________\n"
     ]
    }
   ],
   "source": [
    "model = ks.models.Sequential([\n",
    "    layers.Conv2D(12, (32, 32), activation='relu', input_shape=(300, 300, 3), name='Conv2D_layer1'),\n",
    "    layers.MaxPool2D((2, 2), name='MaxPooling2D_layer1'),\n",
    "    layers.Conv2D(36, (16, 16), activation='relu', input_shape=(300, 300, 3), name='Conv2D_layer2'),\n",
    "    layers.MaxPool2D((4, 4), name='MaxPooling2D_layer2'),\n",
    "    layers.Flatten(name='Flatten'),\n",
    "    layers.Dropout(0.15),\n",
    "    layers.Dense(1000, activation='relu', name='Dense_layer1'),\n",
    "    layers.Dropout(0.15),\n",
    "    layers.Dense(100, activation='relu', name='Dense_layer2'),\n",
    "    layers.Dropout(0.15),\n",
    "    layers.Dense(3, activation='softmax', name='Output_layer')\n",
    "])\n",
    "\n",
    "model.compile(loss=config['loss_function'], optimizer=config['optimizer'])\n",
    "model.summary()"
   ]
  },
  {
   "cell_type": "code",
   "execution_count": null,
   "metadata": {},
   "outputs": [
    {
     "name": "stdout",
     "output_type": "stream",
     "text": [
      "Epoch 1/3\n",
      "  11/1125 [..............................] - ETA: 5:30:11 - loss: 416.4815"
     ]
    }
   ],
   "source": [
    "model.fit(train_ds, \n",
    "          validation_data=valid_ds, \n",
    "          epochs=config['epochs'],\n",
    "         callbacks=[recorder, checkpoint_callback])"
   ]
  },
  {
   "cell_type": "code",
   "execution_count": null,
   "metadata": {},
   "outputs": [],
   "source": []
  }
 ],
 "metadata": {
  "kernelspec": {
   "display_name": "Python 3",
   "language": "python",
   "name": "python3"
  },
  "language_info": {
   "codemirror_mode": {
    "name": "ipython",
    "version": 3
   },
   "file_extension": ".py",
   "mimetype": "text/x-python",
   "name": "python",
   "nbconvert_exporter": "python",
   "pygments_lexer": "ipython3",
   "version": "3.8.2"
  }
 },
 "nbformat": 4,
 "nbformat_minor": 4
}
